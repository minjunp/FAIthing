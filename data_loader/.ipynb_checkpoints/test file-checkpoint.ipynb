{
 "cells": [
  {
   "cell_type": "code",
   "execution_count": 1,
   "id": "67b61151",
   "metadata": {},
   "outputs": [],
   "source": [
    "import sys\n",
    "sys.path.append('/Users/minjunpark/Documents/RLfinance')\n",
    "from config import config\n",
    "import pandas as pd\n",
    "import json\n",
    "\n",
    "from iex_downloader import IEXStock"
   ]
  },
  {
   "cell_type": "code",
   "execution_count": 2,
   "id": "c08fc579",
   "metadata": {},
   "outputs": [
    {
     "data": {
      "text/plain": [
       "'pk_2b94639ed238479da3d120282b9a14ac'"
      ]
     },
     "execution_count": 2,
     "metadata": {},
     "output_type": "execute_result"
    }
   ],
   "source": [
    "config.IEX_API_TOKEN"
   ]
  },
  {
   "cell_type": "code",
   "execution_count": 3,
   "id": "b1888b15",
   "metadata": {},
   "outputs": [],
   "source": [
    "# There are 2 tables on the Wikipedia page\n",
    "# we want the first table\n",
    "\n",
    "payload=pd.read_html('https://en.wikipedia.org/wiki/List_of_S%26P_500_companies')\n",
    "first_table = payload[0]\n",
    "second_table = payload[1]\n",
    "\n",
    "df = first_table"
   ]
  },
  {
   "cell_type": "markdown",
   "id": "d4ad2e72",
   "metadata": {},
   "source": [
    "# Define tickers"
   ]
  },
  {
   "cell_type": "code",
   "execution_count": null,
   "id": "2d10be77",
   "metadata": {},
   "outputs": [],
   "source": [
    "tickers = []"
   ]
  },
  {
   "cell_type": "markdown",
   "id": "c50a1eea",
   "metadata": {},
   "source": [
    "# Download balance sheet"
   ]
  },
  {
   "cell_type": "code",
   "execution_count": null,
   "id": "87ac74a4",
   "metadata": {},
   "outputs": [],
   "source": [
    "for ticker in tickers:\n",
    "    print(ticker)\n",
    "    p = IEXStock(config.IEX_API_TOKEN, ticker, environment='production')\n",
    "    data = p.get_balance_sheet(last=4)\n",
    "\n",
    "    with open(f'../data/balance_sheet/{ticker}_last4.json', 'w', encoding='utf-8') as f:\n",
    "        json.dump(data, f, ensure_ascii=False, indent=4)"
   ]
  },
  {
   "cell_type": "markdown",
   "id": "b1604a20",
   "metadata": {},
   "source": [
    "# Download income statement"
   ]
  },
  {
   "cell_type": "code",
   "execution_count": null,
   "id": "f9db5bae",
   "metadata": {},
   "outputs": [],
   "source": [
    "for ticker in tickers:\n",
    "    print(ticker)\n",
    "    p = IEXStock(config.IEX_API_TOKEN, ticker, environment='production')\n",
    "    data = p.get_balance_sheet(last=4)\n",
    "\n",
    "    with open(f'../data/income_statement/{ticker}_last4.json', 'w', encoding='utf-8') as f:\n",
    "        json.dump(data, f, ensure_ascii=False, indent=4)"
   ]
  },
  {
   "cell_type": "markdown",
   "id": "2ef5064b",
   "metadata": {},
   "source": [
    "# Download Earnings"
   ]
  },
  {
   "cell_type": "code",
   "execution_count": null,
   "id": "a58753ba",
   "metadata": {},
   "outputs": [],
   "source": [
    "for ticker in tickers:\n",
    "    print(ticker)\n",
    "    p = IEXStock(config.IEX_API_TOKEN, ticker, environment='production')\n",
    "    data = p.get_earnings(last=4)\n",
    "\n",
    "    with open(f'../data/earnings/{ticker}_last4.json', 'w', encoding='utf-8') as f:\n",
    "        json.dump(data, f, ensure_ascii=False, indent=4)"
   ]
  },
  {
   "cell_type": "markdown",
   "id": "cdc1360b",
   "metadata": {},
   "source": [
    "# Stop here"
   ]
  },
  {
   "cell_type": "code",
   "execution_count": null,
   "id": "9b622eb5",
   "metadata": {},
   "outputs": [],
   "source": [
    "for ticker in df.Symbol.tolist():\n",
    "    print(ticker)\n",
    "    p = IEXStock(config.IEX_API_TOKEN, ticker, environment='production')\n",
    "    tenQ = p.get_10K(last=1)\n",
    "\n",
    "    with open(f'../data/10K/{ticker}_10K_last1.json', 'w', encoding='utf-8') as f:\n",
    "        json.dump(tenQ, f, ensure_ascii=False, indent=4)"
   ]
  },
  {
   "cell_type": "code",
   "execution_count": null,
   "id": "5d3b05de",
   "metadata": {
    "scrolled": true
   },
   "outputs": [],
   "source": [
    "for ticker in df.Symbol.tolist()[5:]:\n",
    "    print(ticker)\n",
    "    p = IEXStock(config.IEX_API_TOKEN, ticker, environment='production')\n",
    "    tenQ = p.get_10Q(last=9)\n",
    "\n",
    "    with open(f'../data/10Q/{ticker}_10Q_last9.json', 'w', encoding='utf-8') as f:\n",
    "        json.dump(tenQ, f, ensure_ascii=False, indent=4)"
   ]
  },
  {
   "cell_type": "code",
   "execution_count": null,
   "id": "fb7664bf",
   "metadata": {},
   "outputs": [],
   "source": [
    "for ticker in df.Symbol.tolist()[:2]:\n",
    "    print(ticker)\n",
    "    p = IEXStock(config.IEX_API_TOKEN, ticker, environment='production')\n",
    "    tenQ = p.get_balance_sheet(last=1)\n",
    "\n",
    "    with open(f'../data/junk/{ticker}.json', 'w', encoding='utf-8') as f:\n",
    "        json.dump(tenQ, f, ensure_ascii=False, indent=4)"
   ]
  },
  {
   "cell_type": "code",
   "execution_count": null,
   "id": "e4503777",
   "metadata": {},
   "outputs": [],
   "source": [
    "for ticker in df.Symbol.tolist()[2:4]:\n",
    "    print(ticker)\n",
    "    p = IEXStock(config.IEX_API_TOKEN, ticker, environment='production')\n",
    "    tenQ = p.get_cash_flow(last=2)\n",
    "\n",
    "    with open(f'../data/junk/{ticker}.json', 'w', encoding='utf-8') as f:\n",
    "        json.dump(tenQ, f, ensure_ascii=False, indent=4)"
   ]
  },
  {
   "cell_type": "code",
   "execution_count": 5,
   "id": "15d00f13",
   "metadata": {},
   "outputs": [
    {
     "name": "stdout",
     "output_type": "stream",
     "text": [
      "ABMD\n",
      "ACN\n"
     ]
    }
   ],
   "source": [
    "for ticker in df.Symbol.tolist()[4:6]:\n",
    "    print(ticker)\n",
    "    p = IEXStock(config.IEX_API_TOKEN, ticker, environment='production')\n",
    "    tenQ = p.get_income_statement(last=2)\n",
    "\n",
    "    with open(f'../data/junk/{ticker}.json', 'w', encoding='utf-8') as f:\n",
    "        json.dump(tenQ, f, ensure_ascii=False, indent=4)"
   ]
  },
  {
   "cell_type": "code",
   "execution_count": null,
   "id": "e47b6541",
   "metadata": {},
   "outputs": [],
   "source": []
  }
 ],
 "metadata": {
  "kernelspec": {
   "display_name": "Python 3 (ipykernel)",
   "language": "python",
   "name": "python3"
  },
  "language_info": {
   "codemirror_mode": {
    "name": "ipython",
    "version": 3
   },
   "file_extension": ".py",
   "mimetype": "text/x-python",
   "name": "python",
   "nbconvert_exporter": "python",
   "pygments_lexer": "ipython3",
   "version": "3.8.12"
  }
 },
 "nbformat": 4,
 "nbformat_minor": 5
}
