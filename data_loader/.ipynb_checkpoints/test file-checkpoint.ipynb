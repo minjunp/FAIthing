{
 "cells": [
  {
   "cell_type": "code",
   "execution_count": 1,
   "id": "67b61151",
   "metadata": {},
   "outputs": [],
   "source": [
    "import sys\n",
    "sys.path.append('/Users/minjunpark/Documents/RLfinance')\n",
    "from config import config\n",
    "import pandas as pd\n",
    "import json\n",
    "\n",
    "from iex_downloader import IEXStock"
   ]
  },
  {
   "cell_type": "code",
   "execution_count": 2,
   "id": "c08fc579",
   "metadata": {},
   "outputs": [
    {
     "data": {
      "text/plain": [
       "'pk_2b94639ed238479da3d120282b9a14ac'"
      ]
     },
     "execution_count": 2,
     "metadata": {},
     "output_type": "execute_result"
    }
   ],
   "source": [
    "config.IEX_API_TOKEN"
   ]
  },
  {
   "cell_type": "code",
   "execution_count": 3,
   "id": "b1888b15",
   "metadata": {},
   "outputs": [],
   "source": [
    "import pandas as pd\n",
    "\n",
    "# There are 2 tables on the Wikipedia page\n",
    "# we want the first table\n",
    "\n",
    "payload=pd.read_html('https://en.wikipedia.org/wiki/List_of_S%26P_500_companies')\n",
    "first_table = payload[0]\n",
    "second_table = payload[1]\n",
    "\n",
    "df = first_table"
   ]
  },
  {
   "cell_type": "code",
   "execution_count": null,
   "id": "9b622eb5",
   "metadata": {},
   "outputs": [],
   "source": [
    "for ticker in df.Symbol.tolist():\n",
    "    print(ticker)\n",
    "    p = IEXStock(config.IEX_API_TOKEN, ticker, environment='production')\n",
    "    tenQ = p.get_10K(last=1)\n",
    "\n",
    "    with open(f'../data/10K/{ticker}_10K_last1.json', 'w', encoding='utf-8') as f:\n",
    "        json.dump(tenQ, f, ensure_ascii=False, indent=4)"
   ]
  },
  {
   "cell_type": "code",
   "execution_count": null,
   "id": "5d3b05de",
   "metadata": {
    "scrolled": true
   },
   "outputs": [],
   "source": [
    "for ticker in df.Symbol.tolist()[5:]:\n",
    "    print(ticker)\n",
    "    p = IEXStock(config.IEX_API_TOKEN, ticker, environment='production')\n",
    "    tenQ = p.get_10Q(last=9)\n",
    "\n",
    "    with open(f'../data/10Q/{ticker}_10Q_last9.json', 'w', encoding='utf-8') as f:\n",
    "        json.dump(tenQ, f, ensure_ascii=False, indent=4)"
   ]
  },
  {
   "cell_type": "code",
   "execution_count": null,
   "id": "fb7664bf",
   "metadata": {},
   "outputs": [],
   "source": [
    "for ticker in df.Symbol.tolist()[:2]:\n",
    "    print(ticker)\n",
    "    p = IEXStock(config.IEX_API_TOKEN, ticker, environment='production')\n",
    "    tenQ = p.get_balance_sheet(last=1)\n",
    "\n",
    "    with open(f'../data/junk/{ticker}.json', 'w', encoding='utf-8') as f:\n",
    "        json.dump(tenQ, f, ensure_ascii=False, indent=4)"
   ]
  },
  {
   "cell_type": "code",
   "execution_count": null,
   "id": "e4503777",
   "metadata": {},
   "outputs": [],
   "source": [
    "for ticker in df.Symbol.tolist()[2:4]:\n",
    "    print(ticker)\n",
    "    p = IEXStock(config.IEX_API_TOKEN, ticker, environment='production')\n",
    "    tenQ = p.get_cash_flow(last=2)\n",
    "\n",
    "    with open(f'../data/junk/{ticker}.json', 'w', encoding='utf-8') as f:\n",
    "        json.dump(tenQ, f, ensure_ascii=False, indent=4)"
   ]
  },
  {
   "cell_type": "code",
   "execution_count": 5,
   "id": "15d00f13",
   "metadata": {},
   "outputs": [
    {
     "name": "stdout",
     "output_type": "stream",
     "text": [
      "ABMD\n",
      "ACN\n"
     ]
    }
   ],
   "source": [
    "for ticker in df.Symbol.tolist()[4:6]:\n",
    "    print(ticker)\n",
    "    p = IEXStock(config.IEX_API_TOKEN, ticker, environment='production')\n",
    "    tenQ = p.get_income_statement(last=2)\n",
    "\n",
    "    with open(f'../data/junk/{ticker}.json', 'w', encoding='utf-8') as f:\n",
    "        json.dump(tenQ, f, ensure_ascii=False, indent=4)"
   ]
  },
  {
   "cell_type": "code",
   "execution_count": null,
   "id": "e47b6541",
   "metadata": {},
   "outputs": [],
   "source": []
  }
 ],
 "metadata": {
  "kernelspec": {
   "display_name": "Python 3 (ipykernel)",
   "language": "python",
   "name": "python3"
  },
  "language_info": {
   "codemirror_mode": {
    "name": "ipython",
    "version": 3
   },
   "file_extension": ".py",
   "mimetype": "text/x-python",
   "name": "python",
   "nbconvert_exporter": "python",
   "pygments_lexer": "ipython3",
   "version": "3.8.12"
  }
 },
 "nbformat": 4,
 "nbformat_minor": 5
}
